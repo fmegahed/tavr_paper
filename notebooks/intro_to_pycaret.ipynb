{
 "cells": [
  {
   "cell_type": "code",
   "execution_count": null,
   "id": "efa4ca5b-d644-40b8-acb2-1b99ce2df8fd",
   "metadata": {},
   "outputs": [],
   "source": [
    "import pandas as pd\n",
    "from pycaret.classification import *\n",
    "from janitor import clean_names, remove_empty"
   ]
  },
  {
   "cell_type": "code",
   "execution_count": null,
   "id": "e4848dc7-269e-43d7-8b58-f29e99b8586e",
   "metadata": {},
   "outputs": [],
   "source": [
    "df = pd.read_csv(r'J:\\My Drive\\Miami\\Teaching\\ISA 419\\data\\Portmap.csv')\n",
    "df.columns = df.columns.str.lower()\n",
    "df.columns\n"
   ]
  },
  {
   "cell_type": "code",
   "execution_count": null,
   "id": "8dc80a17-e6b8-4b91-9b2c-2cfce7673ef8",
   "metadata": {},
   "outputs": [],
   "source": [
    "df = df.clean_names().remove_empty()"
   ]
  },
  {
   "cell_type": "code",
   "execution_count": null,
   "id": "c25e0bc1-a57c-4e84-9b47-2849396226ba",
   "metadata": {},
   "outputs": [],
   "source": [
    "df.columns\n",
    "#df1 = df[['a', 'b']]"
   ]
  },
  {
   "cell_type": "code",
   "execution_count": null,
   "id": "1944fe10-faf0-4b47-9d5b-5108b9e0cd9d",
   "metadata": {},
   "outputs": [],
   "source": [
    "df['_label'].value_counts()\n",
    "sampled_df = df.groupby('_label').sample(n=4734).dropna()\n"
   ]
  },
  {
   "cell_type": "code",
   "execution_count": null,
   "id": "bbac6ab7-ae2c-47a0-852f-3ab55fd0405a",
   "metadata": {},
   "outputs": [],
   "source": [
    "# up_sample = im.over_sampling.RandomOverSampler(random_state = 2022, sampling_strategy='minority')\n",
    "\n",
    "setup = setup(sampled_df, target = '_label', train_size = 0.8, preprocess = True, \n",
    "                 ignore_features = ['unnamed_0', 'flow_id', '_source_ip'], \n",
    "                 handle_unknown_categorical = True, fix_imbalance=True, \n",
    "                 #fix_imbalance_method = up_sample, \n",
    "                 fold_strategy = 'stratifiedkfold',\n",
    "                 fold = 10, n_jobs = -1,\n",
    "                 session_id=2022, experiment_name='intro', log_experiment=True,\n",
    "                 normalize = True, normalize_method = 'minmax',\n",
    "                 feature_selection= True, remove_multicollinearity= True)\n",
    "\n",
    "# adding specificity and balanced accuracy to the computed metrics\n",
    "#add_metric('Spec', 'Spec.', im.metrics.specificity_score)\n",
    "#add_metric('Balanced Accuracy', 'Balanced Accuracy', sklearn.metrics.balanced_accuracy_score)"
   ]
  },
  {
   "cell_type": "code",
   "execution_count": null,
   "id": "d848d060-bb2c-4b6f-8187-4a979201f1e1",
   "metadata": {},
   "outputs": [],
   "source": [
    "best_model = compare_models()"
   ]
  },
  {
   "cell_type": "code",
   "execution_count": null,
   "id": "371eba32-67b4-4b91-80b0-6bb610f014ec",
   "metadata": {},
   "outputs": [],
   "source": [
    "predict_model(best_model)"
   ]
  }
 ],
 "metadata": {
  "kernelspec": {
   "display_name": "Python 3 (ipykernel)",
   "language": "python",
   "name": "python3"
  },
  "language_info": {
   "codemirror_mode": {
    "name": "ipython",
    "version": 3
   },
   "file_extension": ".py",
   "mimetype": "text/x-python",
   "name": "python",
   "nbconvert_exporter": "python",
   "pygments_lexer": "ipython3",
   "version": "3.8.10"
  }
 },
 "nbformat": 4,
 "nbformat_minor": 5
}
